{
  "nbformat": 4,
  "nbformat_minor": 0,
  "metadata": {
    "colab": {
      "provenance": [],
      "mount_file_id": "1LDk4l1z8OWvfeeDQCx9NZhd6UNtCutNu",
      "authorship_tag": "ABX9TyNaBkI6vaw7MtLFZSCz7EHr",
      "include_colab_link": true
    },
    "kernelspec": {
      "name": "python3",
      "display_name": "Python 3"
    },
    "language_info": {
      "name": "python"
    }
  },
  "cells": [
    {
      "cell_type": "markdown",
      "metadata": {
        "id": "view-in-github",
        "colab_type": "text"
      },
      "source": [
        "<a href=\"https://colab.research.google.com/github/rakshitarajan/Basic-ML/blob/main/KFold.ipynb\" target=\"_parent\"><img src=\"https://colab.research.google.com/assets/colab-badge.svg\" alt=\"Open In Colab\"/></a>"
      ]
    },
    {
      "cell_type": "code",
      "execution_count": 1,
      "metadata": {
        "colab": {
          "base_uri": "https://localhost:8080/"
        },
        "id": "25dawZj9IvPE",
        "outputId": "e1f10393-c157-48db-c3ce-67facf79162c"
      },
      "outputs": [
        {
          "output_type": "stream",
          "name": "stdout",
          "text": [
            "Shape of features (X): (150, 4)\n",
            "Shape of target (y): (150,)\n",
            "\n",
            "First 5 rows of the Iris dataset:\n",
            "   sepal_length  sepal_width  petal_length  petal_width  target\n",
            "0           5.1          3.5           1.4          0.2       0\n",
            "1           4.9          3.0           1.4          0.2       0\n",
            "2           4.7          3.2           1.3          0.2       0\n",
            "3           4.6          3.1           1.5          0.2       0\n",
            "4           5.0          3.6           1.4          0.2       0\n",
            "\n",
            "Target names (species):\n",
            "['setosa' 'versicolor' 'virginica']\n"
          ]
        }
      ],
      "source": [
        "from sklearn.datasets import load_iris\n",
        "import pandas as pd\n",
        "import numpy as np\n",
        "\n",
        "# Load the Iris dataset\n",
        "X, y = load_iris(return_X_y=True)\n",
        "\n",
        "# X contains the features, y contains the target variable (species)\n",
        "print(f\"Shape of features (X): {X.shape}\")\n",
        "print(f\"Shape of target (y): {y.shape}\")\n",
        "\n",
        "# Optionally, you can convert X and y into a Pandas DataFrame for easier viewing\n",
        "iris_df = pd.DataFrame(X, columns=[f'sepal_length', 'sepal_width', 'petal_length', 'petal_width'])\n",
        "iris_df['target'] = y\n",
        "\n",
        "print(\"\\nFirst 5 rows of the Iris dataset:\")\n",
        "print(iris_df.head())\n",
        "\n",
        "print(\"\\nTarget names (species):\")\n",
        "print(load_iris().target_names) # To see what 0, 1, 2 in 'y' correspond to"
      ]
    },
    {
      "cell_type": "code",
      "source": [
        "from sklearn.model_selection import KFold\n",
        "from sklearn.linear_model import LogisticRegression\n",
        "from sklearn.metrics import accuracy_score\n",
        "from sklearn.preprocessing import StandardScaler # Good practice for Logistic Regression\n",
        "\n",
        "# Initialize KFold\n",
        "# n_splits: The number of folds (k) - Iris has 150 samples, 5 folds means 30 samples per fold\n",
        "# shuffle: Whether to shuffle the data before splitting\n",
        "# random_state: Seed for shuffling for reproducibility\n",
        "kf = KFold(n_splits=5, shuffle=True, random_state=42)\n",
        "\n",
        "# Initialize a list to store accuracy scores for each fold\n",
        "accuracy_scores = []\n",
        "models = []\n",
        "\n",
        "# Loop through each fold\n",
        "print(\"Starting K-Fold Cross-Validation on Iris Dataset:\")\n",
        "for fold, (train_index, test_index) in enumerate(kf.split(X)):\n",
        "    print(f\"\\n--- Fold {fold+1} ---\")\n",
        "\n",
        "    # Split data into training and testing sets for the current fold\n",
        "    X_train, X_test = X[train_index], X[test_index]\n",
        "    y_train, y_test = y[train_index], y[test_index]\n",
        "\n",
        "    print(f\"Train set size: {len(X_train)} samples\")\n",
        "    print(f\"Test set size: {len(X_test)} samples\")\n",
        "\n",
        "    # --- Feature Scaling (Good practice for Logistic Regression) ---\n",
        "    # Logistic Regression is sensitive to feature scaling.\n",
        "    # We fit the scaler ONLY on the training data to prevent data leakage.\n",
        "    # Then we transform both training and test data.\n",
        "    scaler = StandardScaler()\n",
        "    X_train_scaled = scaler.fit_transform(X_train)\n",
        "    X_test_scaled = scaler.transform(X_test)\n",
        "\n",
        "    # Initialize the Logistic Regression model\n",
        "    # For multi-class classification, 'liblinear' can do one-vs-rest.\n",
        "    # 'lbfgs' is also a good general-purpose solver for multinomial.\n",
        "    # multi_class='multinomial' explicitly tells it to handle multiple classes.\n",
        "    # max_iter increased because convergence warnings can appear on scaled data\n",
        "    model = LogisticRegression(solver='lbfgs', multi_class='multinomial', max_iter=200, random_state=42)\n",
        "\n",
        "    # Train the model on the (scaled) training data\n",
        "    model.fit(X_train_scaled, y_train)\n",
        "    print(\"Model trained successfully.\")\n",
        "\n",
        "    # Make predictions on the (scaled) test data\n",
        "    y_pred = model.predict(X_test_scaled)\n",
        "\n",
        "    # Calculate accuracy for the current fold\n",
        "    accuracy = accuracy_score(y_test, y_pred)\n",
        "    accuracy_scores.append(accuracy)\n",
        "    models.append(model)\n",
        "\n",
        "    print(f\"Accuracy for Fold {fold+1}: {accuracy:.4f}\")\n",
        "\n",
        "# Calculate and print the average accuracy\n",
        "print(\"\\n--- K-Fold Cross-Validation Results on Iris ---\")\n",
        "print(f\"Individual fold accuracies: {np.round(accuracy_scores, 4)}\")\n",
        "print(f\"Mean accuracy: {np.mean(accuracy_scores):.4f}\")\n",
        "print(f\"Standard deviation of accuracy: {np.std(accuracy_scores):.4f}\")"
      ],
      "metadata": {
        "colab": {
          "base_uri": "https://localhost:8080/"
        },
        "id": "yg3zl21oKFTS",
        "outputId": "984ed5f0-7924-4b46-c986-6ce3bdd07e9f"
      },
      "execution_count": 3,
      "outputs": [
        {
          "output_type": "stream",
          "name": "stdout",
          "text": [
            "Starting K-Fold Cross-Validation on Iris Dataset:\n",
            "\n",
            "--- Fold 1 ---\n",
            "Train set size: 120 samples\n",
            "Test set size: 30 samples\n",
            "Model trained successfully.\n",
            "Accuracy for Fold 1: 1.0000\n",
            "\n",
            "--- Fold 2 ---\n",
            "Train set size: 120 samples\n",
            "Test set size: 30 samples\n",
            "Model trained successfully.\n",
            "Accuracy for Fold 2: 0.9667\n",
            "\n",
            "--- Fold 3 ---\n",
            "Train set size: 120 samples\n",
            "Test set size: 30 samples\n",
            "Model trained successfully.\n",
            "Accuracy for Fold 3: 0.9333\n",
            "\n",
            "--- Fold 4 ---\n",
            "Train set size: 120 samples\n",
            "Test set size: 30 samples\n",
            "Model trained successfully.\n",
            "Accuracy for Fold 4: 0.9000\n",
            "\n",
            "--- Fold 5 ---\n",
            "Train set size: 120 samples\n",
            "Test set size: 30 samples\n",
            "Model trained successfully.\n",
            "Accuracy for Fold 5: 0.9667\n",
            "\n",
            "--- K-Fold Cross-Validation Results on Iris ---\n",
            "Individual fold accuracies: [1.     0.9667 0.9333 0.9    0.9667]\n",
            "Mean accuracy: 0.9533\n",
            "Standard deviation of accuracy: 0.0340\n"
          ]
        },
        {
          "output_type": "stream",
          "name": "stderr",
          "text": [
            "/usr/local/lib/python3.12/dist-packages/sklearn/linear_model/_logistic.py:1247: FutureWarning: 'multi_class' was deprecated in version 1.5 and will be removed in 1.7. From then on, it will always use 'multinomial'. Leave it to its default value to avoid this warning.\n",
            "  warnings.warn(\n",
            "/usr/local/lib/python3.12/dist-packages/sklearn/linear_model/_logistic.py:1247: FutureWarning: 'multi_class' was deprecated in version 1.5 and will be removed in 1.7. From then on, it will always use 'multinomial'. Leave it to its default value to avoid this warning.\n",
            "  warnings.warn(\n",
            "/usr/local/lib/python3.12/dist-packages/sklearn/linear_model/_logistic.py:1247: FutureWarning: 'multi_class' was deprecated in version 1.5 and will be removed in 1.7. From then on, it will always use 'multinomial'. Leave it to its default value to avoid this warning.\n",
            "  warnings.warn(\n",
            "/usr/local/lib/python3.12/dist-packages/sklearn/linear_model/_logistic.py:1247: FutureWarning: 'multi_class' was deprecated in version 1.5 and will be removed in 1.7. From then on, it will always use 'multinomial'. Leave it to its default value to avoid this warning.\n",
            "  warnings.warn(\n",
            "/usr/local/lib/python3.12/dist-packages/sklearn/linear_model/_logistic.py:1247: FutureWarning: 'multi_class' was deprecated in version 1.5 and will be removed in 1.7. From then on, it will always use 'multinomial'. Leave it to its default value to avoid this warning.\n",
            "  warnings.warn(\n"
          ]
        }
      ]
    },
    {
      "cell_type": "code",
      "source": [
        "from google.colab import drive\n",
        "drive.mount('/content/drive')"
      ],
      "metadata": {
        "id": "NqGotl7XPy9V"
      },
      "execution_count": null,
      "outputs": []
    },
    {
      "cell_type": "code",
      "source": [],
      "metadata": {
        "id": "XbUhgd4SMwIn"
      },
      "execution_count": null,
      "outputs": []
    }
  ]
}